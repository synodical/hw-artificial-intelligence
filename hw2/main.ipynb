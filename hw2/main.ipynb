{
 "cells": [
  {
   "cell_type": "code",
   "execution_count": 238,
   "id": "ba10b03f",
   "metadata": {},
   "outputs": [],
   "source": [
    "import sys, os\n",
    "sys.path.append(os.pardir)\n",
    "# 부모 디렉토리에서 import할 수 있도록 설정\n",
    "import numpy as np\n",
    "from dataset.mnist import load_mnist\n",
    "# mnist data load할 수 있는 함수 import\n",
    "from PIL import Image\n",
    "# python image processing library\n",
    "# python 버전 3.x 에서는 pillow package install해서 사"
   ]
  },
  {
   "cell_type": "code",
   "execution_count": 239,
   "id": "512b8df9",
   "metadata": {},
   "outputs": [
    {
     "name": "stdout",
     "output_type": "stream",
     "text": [
      "5\n",
      "(784,)\n"
     ]
    }
   ],
   "source": [
    "(x_train, t_train), (x_test, t_test) = load_mnist(flatten=True, normalize=True)\n",
    "# training data, test data\n",
    "# flatten: 이미지를 1차원 배열로 읽음\n",
    "# normalize: 0~1 실수로. 그렇지 않으면 0~255\n",
    "image = x_train[0]\n",
    "label = t_train[0]\n",
    "# 첫번째 데이터\n",
    "print(label)\n",
    "print(image.shape)"
   ]
  },
  {
   "cell_type": "code",
   "execution_count": 240,
   "id": "d037941d",
   "metadata": {},
   "outputs": [
    {
     "name": "stdout",
     "output_type": "stream",
     "text": [
      "(28, 28)\n"
     ]
    }
   ],
   "source": [
    "def img_show(img):\n",
    "    pil_img = Image.fromarray(np.uint8(img))\n",
    "    pil_img.show()\n",
    "    # image를 unsigned int로\n",
    "    \n",
    "image = image.reshape(28,28)\n",
    "# 1차원 —> 2차원 (28x28)\n",
    "print(image.shape)\n",
    "img_show(image)"
   ]
  },
  {
   "cell_type": "code",
   "execution_count": 241,
   "id": "e4827628",
   "metadata": {},
   "outputs": [],
   "source": [
    "import import_ipynb\n",
    "from hwmyknn import MyKNeighborsClassifier"
   ]
  },
  {
   "cell_type": "code",
   "execution_count": 242,
   "id": "cc36d237",
   "metadata": {},
   "outputs": [],
   "source": [
    "import numpy as np\n",
    "import matplotlib.pyplot as plt\n",
    "import pandas as pd\n",
    "from sklearn.metrics import accuracy_score"
   ]
  },
  {
   "cell_type": "code",
   "execution_count": 243,
   "id": "36ce2ce9",
   "metadata": {},
   "outputs": [],
   "source": [
    "train_size = 1000\n",
    "train_sample = np.random.randint(0, t_train.shape[0], train_size)\n",
    "# 0~10000에서 숫자 100개 골라서 train set의 index로 사용\n",
    "test_size = 50\n",
    "test_sample = np.random.randint(0, t_test.shape[0], test_size) \n",
    "# 0~10000에서 숫자 3개 골라서 test set의 index로 사용\n",
    "\n",
    "''' \n",
    "X와 y는 각각 data와 target이나, \n",
    "test용 자료와 train용 자료를 _test와 _train 이라는 변수명으로 구분한다. \n",
    "X = x\n",
    "y = t (실제 값)\n",
    "'''\n",
    "X_test = []\n",
    "X_train = []\n",
    "y_test = []\n",
    "y_train = []\n",
    "\n",
    "for i in train_sample:\n",
    "    X_train.append(x_train[i])\n",
    "    y_train.append(t_train[i])\n",
    "\n",
    "for i in test_sample:\n",
    "    X_test.append(x_test[i])\n",
    "    y_test.append(t_test[i])\n",
    "    \n",
    "X_test = np.array(X_test)\n",
    "X_train = np.array(X_train)\n",
    "y_test = np.array(y_test)\n",
    "y_train = np.array(y_train)\n",
    "\n",
    "label_name = ['0','1','2','3','4','5','6','7','8','9']"
   ]
  },
  {
   "cell_type": "code",
   "execution_count": 244,
   "id": "0906b6df",
   "metadata": {},
   "outputs": [
    {
     "name": "stdout",
     "output_type": "stream",
     "text": [
      "importing Jupyter notebook from hwmyknn.ipynb\n"
     ]
    }
   ],
   "source": [
    "import importlib\n",
    "import hwmyknn\n",
    "importlib.reload(hwmyknn)\n",
    "from hwmyknn import MyKNeighborsClassifier"
   ]
  },
  {
   "cell_type": "code",
   "execution_count": 245,
   "id": "5052a3c4",
   "metadata": {},
   "outputs": [
    {
     "name": "stdout",
     "output_type": "stream",
     "text": [
      "[0, 0, 0, 0, 0, 0, 0, 0, 0, 6, 0, 0, 0]\n",
      "[4, 9, 6, 4, 4, 7, 9, 9, 9, 9, 6, 4, 9]\n",
      "[9, 9, 9, 9, 8, 8, 4, 9, 9, 9, 4, 8, 4]\n",
      "[1, 1, 1, 1, 1, 1, 1, 1, 1, 1, 1, 1, 1]\n",
      "[1, 1, 1, 1, 1, 1, 1, 1, 1, 1, 1, 1, 1]\n",
      "[6, 6, 6, 6, 6, 6, 0, 0, 8, 6, 6, 0, 6]\n",
      "[8, 8, 8, 8, 8, 8, 8, 8, 8, 8, 8, 8, 8]\n",
      "[8, 2, 8, 3, 8, 8, 2, 2, 8, 8, 8, 8, 2]\n",
      "[4, 4, 4, 4, 4, 4, 4, 9, 4, 4, 4, 4, 4]\n",
      "[7, 7, 1, 1, 1, 1, 1, 7, 7, 7, 1, 1, 7]\n",
      "[7, 7, 9, 9, 7, 9, 7, 7, 9, 9, 7, 7, 7]\n",
      "[9, 9, 4, 9, 9, 9, 4, 9, 4, 9, 4, 9, 9]\n",
      "[4, 9, 9, 1, 9, 9, 7, 7, 9, 7, 4, 4, 7]\n",
      "[3, 3, 3, 3, 3, 5, 3, 5, 1, 0, 0, 3, 3]\n",
      "[2, 2, 2, 2, 2, 2, 2, 2, 2, 2, 2, 2, 2]\n",
      "[1, 1, 1, 1, 1, 1, 1, 1, 1, 1, 1, 1, 1]\n",
      "[3, 3, 3, 3, 3, 3, 3, 3, 5, 5, 5, 3, 8]\n",
      "[7, 7, 9, 9, 7, 9, 7, 9, 4, 9, 9, 9, 9]\n",
      "[9, 9, 9, 9, 7, 9, 9, 4, 9, 9, 9, 9, 9]\n",
      "[3, 5, 5, 6, 5, 5, 5, 5, 8, 6, 5, 5, 6]\n",
      "[5, 3, 3, 8, 3, 5, 3, 5, 5, 5, 5, 5, 7]\n",
      "[6, 6, 6, 6, 6, 6, 6, 6, 6, 6, 6, 6, 0]\n",
      "[3, 3, 3, 3, 3, 3, 3, 3, 3, 3, 5, 5, 5]\n",
      "[6, 6, 6, 6, 6, 6, 6, 6, 6, 6, 6, 6, 6]\n",
      "[5, 5, 5, 5, 5, 5, 8, 3, 5, 5, 5, 5, 8]\n",
      "[4, 4, 4, 4, 4, 4, 4, 1, 4, 4, 4, 9, 9]\n",
      "[6, 6, 6, 6, 6, 6, 6, 6, 6, 6, 6, 6, 6]\n",
      "[8, 8, 8, 8, 8, 8, 4, 4, 8, 9, 4, 8, 4]\n",
      "[9, 7, 4, 1, 1, 9, 4, 4, 4, 9, 4, 4, 4]\n",
      "[9, 9, 9, 4, 4, 9, 9, 4, 9, 4, 9, 9, 4]\n",
      "[9, 9, 9, 9, 7, 4, 7, 9, 4, 9, 7, 7, 9]\n",
      "[8, 8, 3, 8, 5, 8, 4, 8, 5, 6, 6, 8, 8]\n",
      "[7, 7, 7, 7, 7, 7, 9, 7, 7, 7, 7, 7, 9]\n",
      "[2, 2, 2, 2, 2, 2, 2, 2, 2, 2, 2, 2, 2]\n",
      "[5, 5, 5, 5, 5, 5, 3, 5, 9, 5, 9, 5, 5]\n",
      "[1, 1, 1, 1, 1, 1, 1, 1, 1, 1, 1, 1, 1]\n",
      "[1, 1, 1, 1, 1, 1, 1, 1, 1, 1, 1, 1, 1]\n",
      "[9, 9, 9, 7, 4, 9, 7, 7, 9, 7, 9, 4, 7]\n",
      "[5, 5, 5, 5, 5, 5, 5, 5, 5, 5, 5, 5, 5]\n",
      "[6, 6, 6, 6, 6, 6, 0, 6, 6, 6, 6, 0, 0]\n",
      "[5, 5, 5, 5, 3, 3, 5, 5, 3, 5, 5, 5, 5]\n",
      "[9, 9, 9, 7, 9, 9, 9, 7, 9, 9, 9, 4, 9]\n",
      "[3, 3, 3, 3, 8, 3, 8, 5, 3, 8, 8, 8, 8]\n",
      "[7, 7, 7, 7, 7, 7, 7, 7, 7, 7, 7, 7, 7]\n",
      "[0, 0, 0, 0, 0, 0, 0, 0, 0, 0, 0, 0, 0]\n",
      "[8, 8, 8, 8, 8, 8, 8, 5, 8, 8, 8, 5, 8]\n",
      "[3, 3, 3, 2, 3, 3, 3, 3, 3, 3, 3, 3, 5]\n",
      "[8, 8, 8, 5, 8, 8, 8, 8, 8, 8, 8, 9, 8]\n",
      "[3, 3, 5, 3, 3, 8, 3, 3, 3, 8, 3, 5, 4]\n",
      "[6, 6, 6, 6, 6, 6, 6, 6, 6, 6, 6, 6, 6]\n"
     ]
    }
   ],
   "source": [
    "'''Instantiate learning model (k = 3)'''\n",
    "K = 13\n",
    "# hwmyknn 모듈의 MyKNeighborsClassifier class를 이용해 my_classifier라는 이름의 classifier를 초기화\n",
    "my_classifier = MyKNeighborsClassifier(X_test, X_train, y_test, y_train, K) \n",
    "\n",
    "'Test 결과를 예측하기'''\n",
    "my_pred = [] # majority vote를 이용한 test 결과를 저장하는 배열\n",
    "my_weighted_pred = [] # weighted majority vote를 이용한 test 결과를 저장하는 배열\n",
    "\n",
    "for i in range(len(X_test)):\n",
    "    # KNeighbors = 해당 X_test로부터 K개의 neighbors가 가진 label들\n",
    "    KNeighbors = my_classifier.get_KNeighbors(X_test[i], X_train, y_train)\n",
    "    KNeighbors_with_dist = my_classifier.get_KNeighbors_with_dist(X_test[i], X_train, y_train)\n",
    "    \n",
    "    print(KNeighbors) # 해당 X_test로부터 K개의 neighbors가 가진 label 출력\n",
    "    \n",
    "    my_pred.append(my_classifier.majorityVote(KNeighbors)) # 리스트에 추가\n",
    "    my_weighted_pred.append(my_classifier.weightedMajorityVote(KNeighbors_with_dist))\n",
    "    "
   ]
  },
  {
   "cell_type": "code",
   "execution_count": 246,
   "id": "232aafca",
   "metadata": {},
   "outputs": [
    {
     "name": "stdout",
     "output_type": "stream",
     "text": [
      "majority vote [0, 9, 9, 1, 1, 6, 8, 8, 4, 1, 7, 9, 9, 3, 2, 1, 3, 9, 9, 5, 5, 6, 3, 6, 5, 4, 6, 8, 4, 9, 9, 8, 7, 2, 5, 1, 1, 9, 5, 6, 5, 9, 3, 7, 0, 8, 3, 8, 3, 6]\n",
      "weighted majority vote [0, 9, 9, 1, 1, 6, 8, 8, 4, 1, 7, 9, 9, 3, 2, 1, 3, 9, 9, 5, 5, 6, 3, 6, 5, 4, 6, 8, 4, 9, 9, 8, 7, 2, 5, 1, 1, 9, 5, 6, 5, 9, 3, 7, 0, 8, 3, 8, 3, 6]\n",
      "answer [0 4 9 1 1 6 8 8 4 7 7 9 7 3 2 1 3 7 9 3 5 6 3 6 5 4 6 8 4 9 9 8 7 2 5 1 1\n",
      " 9 5 6 5 9 3 7 0 8 3 8 3 6]\n"
     ]
    }
   ],
   "source": [
    "print('majority vote', my_pred) # majority vote로 계산된, X_test(10개)의 예측 label\n",
    "print('weighted majority vote', my_weighted_pred) # weighted majority vote로 계산된, X_test(10개)의 예측 label\n",
    "print('answer', y_test)"
   ]
  },
  {
   "cell_type": "code",
   "execution_count": 247,
   "id": "69273539",
   "metadata": {},
   "outputs": [],
   "source": [
    "my_pred = np.array(my_pred)\n",
    "my_weighted_pred = np.array(my_weighted_pred)\n",
    "y_test = np.array(y_test)"
   ]
  },
  {
   "cell_type": "code",
   "execution_count": 248,
   "id": "f4b20de4",
   "metadata": {},
   "outputs": [
    {
     "name": "stdout",
     "output_type": "stream",
     "text": [
      "Test Data Index:  0 , Computed Class:  0 , True Class:  0\n",
      "Test Data Index:  1 , Computed Class:  9 , True Class:  4\n",
      "Test Data Index:  2 , Computed Class:  9 , True Class:  9\n",
      "Test Data Index:  3 , Computed Class:  1 , True Class:  1\n",
      "Test Data Index:  4 , Computed Class:  1 , True Class:  1\n",
      "Test Data Index:  5 , Computed Class:  6 , True Class:  6\n",
      "Test Data Index:  6 , Computed Class:  8 , True Class:  8\n",
      "Test Data Index:  7 , Computed Class:  8 , True Class:  8\n",
      "Test Data Index:  8 , Computed Class:  4 , True Class:  4\n",
      "Test Data Index:  9 , Computed Class:  1 , True Class:  7\n",
      "Test Data Index:  10 , Computed Class:  7 , True Class:  7\n",
      "Test Data Index:  11 , Computed Class:  9 , True Class:  9\n",
      "Test Data Index:  12 , Computed Class:  9 , True Class:  7\n",
      "Test Data Index:  13 , Computed Class:  3 , True Class:  3\n",
      "Test Data Index:  14 , Computed Class:  2 , True Class:  2\n",
      "Test Data Index:  15 , Computed Class:  1 , True Class:  1\n",
      "Test Data Index:  16 , Computed Class:  3 , True Class:  3\n",
      "Test Data Index:  17 , Computed Class:  9 , True Class:  7\n",
      "Test Data Index:  18 , Computed Class:  9 , True Class:  9\n",
      "Test Data Index:  19 , Computed Class:  5 , True Class:  3\n",
      "Test Data Index:  20 , Computed Class:  5 , True Class:  5\n",
      "Test Data Index:  21 , Computed Class:  6 , True Class:  6\n",
      "Test Data Index:  22 , Computed Class:  3 , True Class:  3\n",
      "Test Data Index:  23 , Computed Class:  6 , True Class:  6\n",
      "Test Data Index:  24 , Computed Class:  5 , True Class:  5\n",
      "Test Data Index:  25 , Computed Class:  4 , True Class:  4\n",
      "Test Data Index:  26 , Computed Class:  6 , True Class:  6\n",
      "Test Data Index:  27 , Computed Class:  8 , True Class:  8\n",
      "Test Data Index:  28 , Computed Class:  4 , True Class:  4\n",
      "Test Data Index:  29 , Computed Class:  9 , True Class:  9\n",
      "Test Data Index:  30 , Computed Class:  9 , True Class:  9\n",
      "Test Data Index:  31 , Computed Class:  8 , True Class:  8\n",
      "Test Data Index:  32 , Computed Class:  7 , True Class:  7\n",
      "Test Data Index:  33 , Computed Class:  2 , True Class:  2\n",
      "Test Data Index:  34 , Computed Class:  5 , True Class:  5\n",
      "Test Data Index:  35 , Computed Class:  1 , True Class:  1\n",
      "Test Data Index:  36 , Computed Class:  1 , True Class:  1\n",
      "Test Data Index:  37 , Computed Class:  9 , True Class:  9\n",
      "Test Data Index:  38 , Computed Class:  5 , True Class:  5\n",
      "Test Data Index:  39 , Computed Class:  6 , True Class:  6\n",
      "Test Data Index:  40 , Computed Class:  5 , True Class:  5\n",
      "Test Data Index:  41 , Computed Class:  9 , True Class:  9\n",
      "Test Data Index:  42 , Computed Class:  3 , True Class:  3\n",
      "Test Data Index:  43 , Computed Class:  7 , True Class:  7\n",
      "Test Data Index:  44 , Computed Class:  0 , True Class:  0\n",
      "Test Data Index:  45 , Computed Class:  8 , True Class:  8\n",
      "Test Data Index:  46 , Computed Class:  3 , True Class:  3\n",
      "Test Data Index:  47 , Computed Class:  8 , True Class:  8\n",
      "Test Data Index:  48 , Computed Class:  3 , True Class:  3\n",
      "Test Data Index:  49 , Computed Class:  6 , True Class:  6\n",
      "Accuracy of our model is equal 90.0 %.\n"
     ]
    }
   ],
   "source": [
    "for i in range(len(X_test)):\n",
    "    print('Test Data Index: ' , i , ', Computed Class: ' , label_name[my_pred[i]] , ', True Class: ', label_name[y_test[i]])\n",
    "\n",
    "accuracy = accuracy_score(y_test, my_pred)*100 # 실제 label인 y값과 나의 예측값을 비교해 정확도를 계산\n",
    "print('Accuracy of our model is equal ' + str(round(accuracy, 2)) + ' %.')"
   ]
  },
  {
   "cell_type": "code",
   "execution_count": 249,
   "id": "55a6dabb",
   "metadata": {},
   "outputs": [
    {
     "name": "stdout",
     "output_type": "stream",
     "text": [
      "Test Data Index:  0 , Computed Class:  0 , True Class:  0\n",
      "Test Data Index:  1 , Computed Class:  9 , True Class:  4\n",
      "Test Data Index:  2 , Computed Class:  9 , True Class:  9\n",
      "Test Data Index:  3 , Computed Class:  1 , True Class:  1\n",
      "Test Data Index:  4 , Computed Class:  1 , True Class:  1\n",
      "Test Data Index:  5 , Computed Class:  6 , True Class:  6\n",
      "Test Data Index:  6 , Computed Class:  8 , True Class:  8\n",
      "Test Data Index:  7 , Computed Class:  8 , True Class:  8\n",
      "Test Data Index:  8 , Computed Class:  4 , True Class:  4\n",
      "Test Data Index:  9 , Computed Class:  1 , True Class:  7\n",
      "Test Data Index:  10 , Computed Class:  7 , True Class:  7\n",
      "Test Data Index:  11 , Computed Class:  9 , True Class:  9\n",
      "Test Data Index:  12 , Computed Class:  9 , True Class:  7\n",
      "Test Data Index:  13 , Computed Class:  3 , True Class:  3\n",
      "Test Data Index:  14 , Computed Class:  2 , True Class:  2\n",
      "Test Data Index:  15 , Computed Class:  1 , True Class:  1\n",
      "Test Data Index:  16 , Computed Class:  3 , True Class:  3\n",
      "Test Data Index:  17 , Computed Class:  9 , True Class:  7\n",
      "Test Data Index:  18 , Computed Class:  9 , True Class:  9\n",
      "Test Data Index:  19 , Computed Class:  5 , True Class:  3\n",
      "Test Data Index:  20 , Computed Class:  5 , True Class:  5\n",
      "Test Data Index:  21 , Computed Class:  6 , True Class:  6\n",
      "Test Data Index:  22 , Computed Class:  3 , True Class:  3\n",
      "Test Data Index:  23 , Computed Class:  6 , True Class:  6\n",
      "Test Data Index:  24 , Computed Class:  5 , True Class:  5\n",
      "Test Data Index:  25 , Computed Class:  4 , True Class:  4\n",
      "Test Data Index:  26 , Computed Class:  6 , True Class:  6\n",
      "Test Data Index:  27 , Computed Class:  8 , True Class:  8\n",
      "Test Data Index:  28 , Computed Class:  4 , True Class:  4\n",
      "Test Data Index:  29 , Computed Class:  9 , True Class:  9\n",
      "Test Data Index:  30 , Computed Class:  9 , True Class:  9\n",
      "Test Data Index:  31 , Computed Class:  8 , True Class:  8\n",
      "Test Data Index:  32 , Computed Class:  7 , True Class:  7\n",
      "Test Data Index:  33 , Computed Class:  2 , True Class:  2\n",
      "Test Data Index:  34 , Computed Class:  5 , True Class:  5\n",
      "Test Data Index:  35 , Computed Class:  1 , True Class:  1\n",
      "Test Data Index:  36 , Computed Class:  1 , True Class:  1\n",
      "Test Data Index:  37 , Computed Class:  9 , True Class:  9\n",
      "Test Data Index:  38 , Computed Class:  5 , True Class:  5\n",
      "Test Data Index:  39 , Computed Class:  6 , True Class:  6\n",
      "Test Data Index:  40 , Computed Class:  5 , True Class:  5\n",
      "Test Data Index:  41 , Computed Class:  9 , True Class:  9\n",
      "Test Data Index:  42 , Computed Class:  3 , True Class:  3\n",
      "Test Data Index:  43 , Computed Class:  7 , True Class:  7\n",
      "Test Data Index:  44 , Computed Class:  0 , True Class:  0\n",
      "Test Data Index:  45 , Computed Class:  8 , True Class:  8\n",
      "Test Data Index:  46 , Computed Class:  3 , True Class:  3\n",
      "Test Data Index:  47 , Computed Class:  8 , True Class:  8\n",
      "Test Data Index:  48 , Computed Class:  3 , True Class:  3\n",
      "Test Data Index:  49 , Computed Class:  6 , True Class:  6\n",
      "Accuracy of our model with weighted majority vote is equal 90.0 %.\n"
     ]
    }
   ],
   "source": [
    "for i in range(len(X_test)):\n",
    "    print('Test Data Index: ' , i , ', Computed Class: ' , label_name[my_weighted_pred[i]] , ', True Class: ', label_name[y_test[i]])\n",
    "\n",
    "accuracy = accuracy_score(y_test, my_weighted_pred)*100\n",
    "print('Accuracy of our model with weighted majority vote is equal ' + str(round(accuracy, 2)) + ' %.')"
   ]
  },
  {
   "cell_type": "code",
   "execution_count": null,
   "id": "3bbbe7bb",
   "metadata": {},
   "outputs": [],
   "source": []
  }
 ],
 "metadata": {
  "kernelspec": {
   "display_name": "Python 3 (ipykernel)",
   "language": "python",
   "name": "python3"
  },
  "language_info": {
   "codemirror_mode": {
    "name": "ipython",
    "version": 3
   },
   "file_extension": ".py",
   "mimetype": "text/x-python",
   "name": "python",
   "nbconvert_exporter": "python",
   "pygments_lexer": "ipython3",
   "version": "3.9.7"
  }
 },
 "nbformat": 4,
 "nbformat_minor": 5
}
