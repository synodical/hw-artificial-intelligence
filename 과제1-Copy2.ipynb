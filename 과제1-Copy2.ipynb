{
 "cells": [
  {
   "cell_type": "code",
   "execution_count": null,
   "id": "6892de5a",
   "metadata": {},
   "outputs": [],
   "source": [
    "# import numpy as np\n",
    "import matplotlib.pyplot as plt\n",
    "import pandas as pd\n",
    "from sklearn.datasets import load_iris\n",
    "from sklearn.metrics import accuracy_score\n",
    "\n",
    "iris = load_iris()\n",
    "# print(iris)\n",
    "# X = iris.data \n",
    "# y = iris.target\n",
    "X_test = []\n",
    "X_train = []\n",
    "y_test = []\n",
    "y_train = []\n",
    "\n",
    "'''\n",
    "데이터 train과 test용으로 구분하기\n",
    "15번째 data마다 test용으로 사용하기\n",
    "'''\n",
    "for i in range(0, 150):\n",
    "   # print(iris.data[i])\n",
    "    if i % 15 == 0:\n",
    "        X_test.append(iris.data[i])\n",
    "        y_test.append(iris.target[i])\n",
    "        \n",
    "    else:\n",
    "        X_train.append(iris.data[i])\n",
    "        y_train.append(iris.target[i])\n",
    "    \n",
    "X_test = np.array(X_test)\n",
    "X_train = np.array(X_train)\n",
    "y_test = np.array(y_test)\n",
    "y_train = np.array(y_train)"
   ]
  },
  {
   "cell_type": "code",
   "execution_count": 37,
   "id": "83279b1e",
   "metadata": {},
   "outputs": [],
   "source": [
    "class MyKNeighborsClassifier():\n",
    "    \n",
    "    def __init__(self, X_test, X_train, y_test, y_train, K=5):\n",
    "        self.K=K\n",
    "        self.X_test = X_test\n",
    "        self.X_train = X_train\n",
    "        self.y_test = y_test,\n",
    "        self.y_train = y_train\n",
    "    \n",
    "    def euclidian(self, data1, data2):\n",
    "        dist= 0\n",
    "        for i in range(len(data1)):\n",
    "            dist += (data1[i] - data2[i]) ** 2\n",
    "            \n",
    "        dist= dist ** 0.5\n",
    "        return dist\n",
    "    \n",
    "    def get_KNeighbors(self, X_test, X_train, y_train):\n",
    "        distances = []\n",
    "        targets = []\n",
    "        \n",
    "        for j in range(len(X_train)):\n",
    "            cur = self.euclidian(X_test, X_train[j])\n",
    "            distances.append((cur, y_train[j]))\n",
    "        \n",
    "        sorted_distances = sorted(distances)\n",
    "        dist_with_label = sorted_distances[0:self.K]\n",
    "        \n",
    "        for i in range(self.K):\n",
    "            targets.append(dist_with_label[i][1])\n",
    "        \n",
    "        return targets\n",
    "        \n",
    "    def get_KNeighbors_with_dist(self, X_test, X_train, y_train):\n",
    "        distances = []\n",
    "        \n",
    "        for j in range(len(X_train)):\n",
    "            cur = self.euclidian(X_test, X_train[j])\n",
    "            distances.append((cur, y_train[j]))\n",
    "        \n",
    "        sorted_distances = sorted(distances)\n",
    "        dist_with_label = sorted_distances[0:self.K]\n",
    "        \n",
    "        return dist_with_label\n",
    "        \n",
    "    def majorityVote(self, label):\n",
    "        cnt = [0, 0, 0]\n",
    "        for i in range(len(label)):\n",
    "            cnt[label[i]] += 1\n",
    "        print(\"majority: \", np.argmax(cnt))\n",
    "        return np.argmax(cnt)\n",
    "    \n",
    "    def weightedMajorityVote(self, dist_with_label):\n",
    "        score = [0, 0, 0]\n",
    "        for i in range(len(dist_with_label)):\n",
    "            score[dist_with_label[i][1]] += (dist_with_label[i][0] ** -1)\n",
    "        print(\"weighted majority: \", np.argmax(score))\n",
    "        return np.argmax(score)"
   ]
  },
  {
   "cell_type": "code",
   "execution_count": 38,
   "id": "524e623f",
   "metadata": {},
   "outputs": [
    {
     "name": "stdout",
     "output_type": "stream",
     "text": [
      "[0, 0, 0, 0, 0, 0, 0, 0, 0, 0, 0, 0, 0]\n",
      "majority:  0\n",
      "weighted majority:  0\n",
      "[0, 0, 0, 0, 0, 0, 0, 0, 0, 0, 0, 0, 0]\n",
      "majority:  0\n",
      "weighted majority:  0\n",
      "[0, 0, 0, 0, 0, 0, 0, 0, 0, 0, 0, 0, 0]\n",
      "majority:  0\n",
      "weighted majority:  0\n",
      "[0, 0, 0, 0, 0, 0, 0, 0, 0, 0, 0, 0, 0]\n",
      "majority:  0\n",
      "weighted majority:  0\n",
      "[1, 1, 1, 1, 1, 1, 1, 1, 1, 1, 1, 1, 1]\n",
      "majority:  1\n",
      "weighted majority:  1\n",
      "[1, 1, 1, 1, 1, 1, 1, 1, 1, 1, 1, 1, 1]\n",
      "majority:  1\n",
      "weighted majority:  1\n",
      "[1, 1, 1, 1, 1, 1, 1, 1, 1, 1, 1, 1, 1]\n",
      "majority:  1\n",
      "weighted majority:  1\n",
      "[2, 2, 2, 2, 2, 2, 2, 2, 2, 2, 2, 2, 2]\n",
      "majority:  2\n",
      "weighted majority:  2\n",
      "[2, 2, 2, 2, 2, 2, 2, 2, 2, 2, 2, 2, 2]\n",
      "majority:  2\n",
      "weighted majority:  2\n",
      "[2, 2, 2, 2, 2, 2, 2, 2, 2, 2, 2, 2, 2]\n",
      "majority:  2\n",
      "weighted majority:  2\n",
      "[0, 0, 0, 0, 1, 1, 1, 2, 2, 2]\n",
      "[0, 0, 0, 0, 1, 1, 1, 2, 2, 2]\n"
     ]
    }
   ],
   "source": [
    "# Instantiate learning model (k = 3)\n",
    "K = 13\n",
    "my_classifier = MyKNeighborsClassifier(X_test, X_train, y_test, y_train, K)\n",
    "\n",
    "# Predicting the Test set results\n",
    "my_pred = []\n",
    "my_weighted_pred = []\n",
    "\n",
    "for i in range(len(X_test)):\n",
    "    KNeighbors = my_classifier.get_KNeighbors(X_test[i], X_train, y_train)\n",
    "    KNeighbors_with_dist = my_classifier.get_KNeighbors_with_dist(X_test[i], X_train, y_train)\n",
    "    print(KNeighbors)\n",
    "    my_pred.append(my_classifier.majorityVote(KNeighbors))\n",
    "    my_weighted_pred.append(my_classifier.weightedMajorityVote(KNeighbors_with_dist))\n",
    "    \n",
    "print(my_pred)\n",
    "print(my_weighted_pred)"
   ]
  },
  {
   "cell_type": "code",
   "execution_count": 39,
   "id": "ceb9f7c9",
   "metadata": {},
   "outputs": [
    {
     "name": "stdout",
     "output_type": "stream",
     "text": [
      "Test Data Index:  0 , Computed Class:  setosa , True Class:  setosa\n",
      "Test Data Index:  1 , Computed Class:  setosa , True Class:  setosa\n",
      "Test Data Index:  2 , Computed Class:  setosa , True Class:  setosa\n",
      "Test Data Index:  3 , Computed Class:  setosa , True Class:  setosa\n",
      "Test Data Index:  4 , Computed Class:  versicolor , True Class:  versicolor\n",
      "Test Data Index:  5 , Computed Class:  versicolor , True Class:  versicolor\n",
      "Test Data Index:  6 , Computed Class:  versicolor , True Class:  versicolor\n",
      "Test Data Index:  7 , Computed Class:  virginica , True Class:  virginica\n",
      "Test Data Index:  8 , Computed Class:  virginica , True Class:  virginica\n",
      "Test Data Index:  9 , Computed Class:  virginica , True Class:  virginica\n",
      "Accuracy of our model is equal 100.0 %.\n"
     ]
    }
   ],
   "source": [
    "for i in range(len(X_test)):\n",
    "    print('Test Data Index: ' , i , ', Computed Class: ' , iris.target_names[my_pred[i]] , ', True Class: ', iris.target_names[y_test[i]])\n",
    "\n",
    "accuracy = accuracy_score(y_test, my_pred)*100\n",
    "print('Accuracy of our model is equal ' + str(round(accuracy, 2)) + ' %.')"
   ]
  },
  {
   "cell_type": "code",
   "execution_count": 40,
   "id": "7374e91b",
   "metadata": {},
   "outputs": [
    {
     "name": "stdout",
     "output_type": "stream",
     "text": [
      "Test Data Index:  0 , Computed Class:  setosa , True Class:  setosa\n",
      "Test Data Index:  1 , Computed Class:  setosa , True Class:  setosa\n",
      "Test Data Index:  2 , Computed Class:  setosa , True Class:  setosa\n",
      "Test Data Index:  3 , Computed Class:  setosa , True Class:  setosa\n",
      "Test Data Index:  4 , Computed Class:  versicolor , True Class:  versicolor\n",
      "Test Data Index:  5 , Computed Class:  versicolor , True Class:  versicolor\n",
      "Test Data Index:  6 , Computed Class:  versicolor , True Class:  versicolor\n",
      "Test Data Index:  7 , Computed Class:  virginica , True Class:  virginica\n",
      "Test Data Index:  8 , Computed Class:  virginica , True Class:  virginica\n",
      "Test Data Index:  9 , Computed Class:  virginica , True Class:  virginica\n",
      "Accuracy of our model with weighted majority vote is equal 100.0 %.\n"
     ]
    }
   ],
   "source": [
    "for i in range(len(X_test)):\n",
    "    print('Test Data Index: ' , i , ', Computed Class: ' , iris.target_names[my_weighted_pred[i]] , ', True Class: ', iris.target_names[y_test[i]])\n",
    "\n",
    "accuracy = accuracy_score(y_test, my_pred)*100\n",
    "print('Accuracy of our model with weighted majority vote is equal ' + str(round(accuracy, 2)) + ' %.')"
   ]
  },
  {
   "cell_type": "code",
   "execution_count": null,
   "id": "1cfddbbe",
   "metadata": {},
   "outputs": [],
   "source": []
  },
  {
   "cell_type": "code",
   "execution_count": null,
   "id": "9773fc2d",
   "metadata": {},
   "outputs": [],
   "source": []
  }
 ],
 "metadata": {
  "kernelspec": {
   "display_name": "Python 3 (ipykernel)",
   "language": "python",
   "name": "python3"
  },
  "language_info": {
   "codemirror_mode": {
    "name": "ipython",
    "version": 3
   },
   "file_extension": ".py",
   "mimetype": "text/x-python",
   "name": "python",
   "nbconvert_exporter": "python",
   "pygments_lexer": "ipython3",
   "version": "3.9.7"
  }
 },
 "nbformat": 4,
 "nbformat_minor": 5
}
